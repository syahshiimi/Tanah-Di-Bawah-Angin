{
 "cells": [
  {
   "cell_type": "code",
   "execution_count": 15,
   "id": "patent-services",
   "metadata": {},
   "outputs": [
    {
     "name": "stdout",
     "output_type": "stream",
     "text": [
      "transformers version:  2.1.1\n"
     ]
    }
   ],
   "source": [
    "import os\n",
    "os.environ[\"CUDA_VISIBLE_DEVICES\"]= \"1\"\n",
    "\n",
    "import transformers\n",
    "print(\"transformers version: \", transformers.__version__)"
   ]
  },
  {
   "cell_type": "code",
   "execution_count": 16,
   "id": "crude-tender",
   "metadata": {},
   "outputs": [],
   "source": [
    "YOUR_PROMPT = \"'Lang terbang menuju awan\""
   ]
  },
  {
   "cell_type": "code",
   "execution_count": null,
   "id": "realistic-arrest",
   "metadata": {},
   "outputs": [
    {
     "name": "stdout",
     "output_type": "stream",
     "text": [
      "02/08/2021 23:44:26 - INFO - transformers.tokenization_utils -   Model name '../puisi-pantun-generator/results/gpt2-pantun' not found in model shortcut name list (gpt2, gpt2-medium, gpt2-large, distilgpt2). Assuming '../puisi-pantun-generator/results/gpt2-pantun' is a path or url to a directory containing tokenizer files.\n",
      "02/08/2021 23:44:26 - INFO - transformers.tokenization_utils -   loading file ../puisi-pantun-generator/results/gpt2-pantun/vocab.json\n",
      "02/08/2021 23:44:26 - INFO - transformers.tokenization_utils -   loading file ../puisi-pantun-generator/results/gpt2-pantun/merges.txt\n",
      "02/08/2021 23:44:26 - INFO - transformers.tokenization_utils -   loading file ../puisi-pantun-generator/results/gpt2-pantun/added_tokens.json\n",
      "02/08/2021 23:44:26 - INFO - transformers.tokenization_utils -   loading file ../puisi-pantun-generator/results/gpt2-pantun/special_tokens_map.json\n",
      "02/08/2021 23:44:26 - INFO - transformers.tokenization_utils -   loading file ../puisi-pantun-generator/results/gpt2-pantun/tokenizer_config.json\n",
      "Traceback (most recent call last):\n",
      "  File \"../puisi-pantun-generator/src/run_generation.py\", line 272, in <module>\n",
      "    main()\n",
      "  File \"../puisi-pantun-generator/src/run_generation.py\", line 207, in main\n",
      "    tokenizer = tokenizer_class.from_pretrained(args.model_name_or_path)\n",
      "  File \"/Users/syahrulanuar/miniforge3/envs/ganimg/lib/python3.8/site-packages/transformers/tokenization_utils.py\", line 282, in from_pretrained\n",
      "    return cls._from_pretrained(*inputs, **kwargs)\n",
      "  File \"/Users/syahrulanuar/miniforge3/envs/ganimg/lib/python3.8/site-packages/transformers/tokenization_utils.py\", line 411, in _from_pretrained\n",
      "    tokenizer = cls(*init_inputs, **init_kwargs)\n",
      "  File \"/Users/syahrulanuar/miniforge3/envs/ganimg/lib/python3.8/site-packages/transformers/tokenization_gpt2.py\", line 118, in __init__\n",
      "    super(GPT2Tokenizer, self).__init__(bos_token=bos_token, eos_token=eos_token, unk_token=unk_token, **kwargs)\n",
      "  File \"/Users/syahrulanuar/miniforge3/envs/ganimg/lib/python3.8/site-packages/transformers/tokenization_utils.py\", line 232, in __init__\n",
      "    assert isinstance(value, str) or (six.PY2 and isinstance(value, unicode))\n",
      "AssertionError\n"
     ]
    }
   ],
   "source": [
    "!python ../puisi-pantun-generator/src/run_generation.py \\\n",
    "--model_type gpt2 \\\n",
    "--model_name_or_path '../puisi-pantun-generator/results/gpt2-pantun' \\\n",
    "--length 125 \\\n",
    "--prompt \"<BOS> {YOUR_PROMPT}\" \\\n",
    "--stop_token \"<EOS>\" \\\n",
    "--k 50 \\\n",
    "--num_return_sequences 100 > generated-pantun.txt"
   ]
  },
  {
   "cell_type": "code",
   "execution_count": null,
   "id": "soviet-inspection",
   "metadata": {},
   "outputs": [],
   "source": []
  },
  {
   "cell_type": "code",
   "execution_count": null,
   "id": "velvet-plasma",
   "metadata": {},
   "outputs": [],
   "source": []
  },
  {
   "cell_type": "code",
   "execution_count": null,
   "id": "geographic-cooperation",
   "metadata": {},
   "outputs": [],
   "source": [
    "/Users/syahrulanuar/miniforge3/envs/ganimg/puisi-pantun-generator/src/run_generation.py"
   ]
  },
  {
   "cell_type": "code",
   "execution_count": null,
   "id": "facial-distance",
   "metadata": {},
   "outputs": [],
   "source": [
    "/Users/syahrulanuar/miniforge3/envs/ganimg/puisi-pantun-generator/src/run_generation.py"
   ]
  },
  {
   "cell_type": "code",
   "execution_count": null,
   "id": "instant-portal",
   "metadata": {},
   "outputs": [],
   "source": []
  }
 ],
 "metadata": {
  "kernelspec": {
   "display_name": "Python 3",
   "language": "python",
   "name": "python3"
  },
  "language_info": {
   "codemirror_mode": {
    "name": "ipython",
    "version": 3
   },
   "file_extension": ".py",
   "mimetype": "text/x-python",
   "name": "python",
   "nbconvert_exporter": "python",
   "pygments_lexer": "ipython3",
   "version": "3.8.6"
  }
 },
 "nbformat": 4,
 "nbformat_minor": 5
}
