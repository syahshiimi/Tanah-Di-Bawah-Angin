{
 "cells": [
  {
   "cell_type": "markdown",
   "metadata": {},
   "source": [
    "# Finetune GPT-2 Indonesian Pantun\n",
    "Finetuning Indonesian GPT-2 ([pretrained by Cahya Wirawan](https://github.com/cahya-wirawan/indonesian-language-models)) on Indonesian Pantun.\n",
    "\n",
    "Github: https://github.com/ilhamfp/puisi-pantun-generator  \n",
    "Data: https://www.kaggle.com/ilhamfp31/pantun-indonesia  \n",
    "Example: https://www.kaggle.com/ilhamfp31/pembangkitan-pantun-otomatis  "
   ]
  },
  {
   "cell_type": "markdown",
   "metadata": {},
   "source": [
    "# Preprocess"
   ]
  },
  {
   "cell_type": "code",
   "execution_count": 2,
   "metadata": {},
   "outputs": [
    {
     "name": "stdout",
     "output_type": "stream",
     "text": [
      "(440, 2)\n"
     ]
    },
    {
     "data": {
      "text/html": [
       "<div>\n",
       "<style scoped>\n",
       "    .dataframe tbody tr th:only-of-type {\n",
       "        vertical-align: middle;\n",
       "    }\n",
       "\n",
       "    .dataframe tbody tr th {\n",
       "        vertical-align: top;\n",
       "    }\n",
       "\n",
       "    .dataframe thead th {\n",
       "        text-align: right;\n",
       "    }\n",
       "</style>\n",
       "<table border=\"1\" class=\"dataframe\">\n",
       "  <thead>\n",
       "    <tr style=\"text-align: right;\">\n",
       "      <th></th>\n",
       "      <th>teks</th>\n",
       "      <th>tipe</th>\n",
       "    </tr>\n",
       "  </thead>\n",
       "  <tbody>\n",
       "    <tr>\n",
       "      <th>0</th>\n",
       "      <td>Pakai baju ukurannya pas \\n Baju biru pemberia...</td>\n",
       "      <td>Pantun Bijak</td>\n",
       "    </tr>\n",
       "    <tr>\n",
       "      <th>1</th>\n",
       "      <td>Orang bijak cinta bahasa \\n Bahasa luas Bahasa...</td>\n",
       "      <td>Pantun Pendidikan</td>\n",
       "    </tr>\n",
       "    <tr>\n",
       "      <th>2</th>\n",
       "      <td>Kepada siapa datangnya wahyu \\n Kepada Nabi wa...</td>\n",
       "      <td>Pantun Nasihat</td>\n",
       "    </tr>\n",
       "    <tr>\n",
       "      <th>3</th>\n",
       "      <td>Citah perang melawan citah \\n Seekor pelatuk m...</td>\n",
       "      <td>Pantun Pendidikan</td>\n",
       "    </tr>\n",
       "    <tr>\n",
       "      <th>4</th>\n",
       "      <td>Ada gadis perawan, \\n paling cantik di kampung...</td>\n",
       "      <td>Pantun Agama</td>\n",
       "    </tr>\n",
       "  </tbody>\n",
       "</table>\n",
       "</div>"
      ],
      "text/plain": [
       "                                                teks               tipe\n",
       "0  Pakai baju ukurannya pas \\n Baju biru pemberia...       Pantun Bijak\n",
       "1  Orang bijak cinta bahasa \\n Bahasa luas Bahasa...  Pantun Pendidikan\n",
       "2  Kepada siapa datangnya wahyu \\n Kepada Nabi wa...     Pantun Nasihat\n",
       "3  Citah perang melawan citah \\n Seekor pelatuk m...  Pantun Pendidikan\n",
       "4  Ada gadis perawan, \\n paling cantik di kampung...       Pantun Agama"
      ]
     },
     "execution_count": 2,
     "metadata": {},
     "output_type": "execute_result"
    }
   ],
   "source": [
    "import pandas as pd\n",
    "from sklearn.model_selection import train_test_split\n",
    "import os\n",
    "os.environ[\"CUDA_VISIBLE_DEVICES\"]= \"1\"\n",
    "\n",
    "data = pd.read_csv(\"../puisi-pantun-generator/data/pantun.csv\")\n",
    "print(data.shape)\n",
    "data.head()"
   ]
  },
  {
   "cell_type": "code",
   "execution_count": 3,
   "metadata": {},
   "outputs": [
    {
     "name": "stdout",
     "output_type": "stream",
     "text": [
      "Len train:  418\n",
      "Len test:  22\n"
     ]
    }
   ],
   "source": [
    "train, test = train_test_split(data.teks.values,\n",
    "                               test_size=0.05,\n",
    "                               random_state=31) \n",
    "\n",
    "print('Len train: ', len(train))\n",
    "print('Len test: ', len(test))\n",
    "\n",
    "with open('train.txt', 'w+') as f:\n",
    "    for text in train:\n",
    "        f.write('<BOS> ' + repr(text)[1:-1] + ' <EOS>\\n')\n",
    "        \n",
    "with open('test.txt', 'w+') as f:\n",
    "    for text in test:\n",
    "        f.write('<BOS> ' + repr(text)[1:-1] + ' <EOS>\\n')"
   ]
  },
  {
   "cell_type": "markdown",
   "metadata": {},
   "source": [
    "# Train\n",
    "Finetune using HuggingFace's run_language_modeling.py script and [raymond's](https://towardsdatascience.com/fine-tuning-gpt2-for-text-generation-using-pytorch-2ee61a4f1ba7) modification."
   ]
  },
  {
   "cell_type": "raw",
   "metadata": {
    "_kg_hide-input": true,
    "_kg_hide-output": true
   },
   "source": [
    "!pip install transformers==3.0.2"
   ]
  },
  {
   "cell_type": "code",
   "execution_count": 1,
   "metadata": {},
   "outputs": [
    {
     "name": "stdout",
     "output_type": "stream",
     "text": [
      "2.1.1\n"
     ]
    }
   ],
   "source": [
    "import transformers\n",
    "print(transformers.__version__)"
   ]
  },
  {
   "cell_type": "code",
   "execution_count": 7,
   "metadata": {},
   "outputs": [
    {
     "name": "stdout",
     "output_type": "stream",
     "text": [
      "Traceback (most recent call last):\r\n",
      "  File \"../puisi-pantun-generator/src/run_language_modeling.py\", line 29, in <module>\r\n",
      "    from transformers import (\r\n",
      "ImportError: cannot import name 'CONFIG_MAPPING' from 'transformers' (/Users/syahrulanuar/miniforge3/envs/ganimg/lib/python3.8/site-packages/transformers/__init__.py)\r\n"
     ]
    }
   ],
   "source": [
    "!python ../puisi-pantun-generator/src/run_language_modeling.py \\\n",
    "--output_dir='./gpt2-pantun' \\\n",
    "--model_type=gpt2 \\\n",
    "--model_name_or_path='cahya/gpt2-small-indonesian-522M' \\\n",
    "--do_train \\\n",
    "--train_data_file='train.txt' \\\n",
    "--do_eval \\\n",
    "--eval_data_file='test.txt' \\\n",
    "--per_device_train_batch_size=8 \\\n",
    "--per_device_eval_batch_size=8 \\\n",
    "--line_by_line \\\n",
    "--evaluate_during_training \\\n",
    "--learning_rate 5e-5 \\\n",
    "--num_train_epochs=2"
   ]
  },
  {
   "cell_type": "code",
   "execution_count": null,
   "metadata": {},
   "outputs": [],
   "source": [
    "!head './gpt2-pantun/eval_results_lm.txt'"
   ]
  },
  {
   "cell_type": "markdown",
   "metadata": {},
   "source": [
    "# Generate Pantun"
   ]
  },
  {
   "cell_type": "code",
   "execution_count": null,
   "metadata": {},
   "outputs": [],
   "source": [
    "!python ../usr/lib/run_generation_py/run_generation_py.py \\\n",
    "--model_type gpt2 \\\n",
    "--model_name_or_path './gpt2-pantun' \\\n",
    "--length 125 \\\n",
    "--prompt \"<BOS>\" \\\n",
    "--stop_token \"<EOS>\" \\\n",
    "--k 50 \\\n",
    "--num_return_sequences 100 > generated-pantun.txt"
   ]
  },
  {
   "cell_type": "code",
   "execution_count": null,
   "metadata": {},
   "outputs": [],
   "source": [
    "result = []\n",
    "with open('generated-pantun.txt', 'r') as f:\n",
    "    lines = f.readlines()\n",
    "    for line in lines:\n",
    "        if line.startswith('<BOS>'):\n",
    "            result.append(line[5:].replace(r'\\\\n', '\\n'))\n",
    "            \n",
    "for idx, pantun in enumerate(result):\n",
    "    print(' ===========\\n   Pantun {}\\n ===========\\n'.format(idx))\n",
    "    print(pantun)"
   ]
  },
  {
   "cell_type": "code",
   "execution_count": null,
   "metadata": {},
   "outputs": [],
   "source": []
  }
 ],
 "metadata": {
  "kernelspec": {
   "display_name": "Python 3",
   "language": "python",
   "name": "python3"
  },
  "language_info": {
   "codemirror_mode": {
    "name": "ipython",
    "version": 3
   },
   "file_extension": ".py",
   "mimetype": "text/x-python",
   "name": "python",
   "nbconvert_exporter": "python",
   "pygments_lexer": "ipython3",
   "version": "3.8.6"
  }
 },
 "nbformat": 4,
 "nbformat_minor": 4
}
