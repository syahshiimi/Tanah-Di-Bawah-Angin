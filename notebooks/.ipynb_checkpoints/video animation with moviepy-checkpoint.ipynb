{
 "cells": [
  {
   "cell_type": "code",
   "execution_count": null,
   "id": "deadly-citizen",
   "metadata": {},
   "outputs": [],
   "source": [
    "import os\n",
    "import glob\n",
    "import numpy as no\n",
    "from moviepy.editor import *\n",
    "from PIL import Image"
   ]
  },
  {
   "cell_type": "code",
   "execution_count": null,
   "id": "fancy-glance",
   "metadata": {},
   "outputs": [],
   "source": [
    "path = '/Volumes/PHOTO 2 /Projects/Tanah di Bawah Angin/Generated Images'\n",
    "os.chdir(path)"
   ]
  },
  {
   "cell_type": "code",
   "execution_count": null,
   "id": "shaped-input",
   "metadata": {},
   "outputs": [],
   "source": [
    "print(\"Current Working Directory \" , os.getcwd())"
   ]
  },
  {
   "cell_type": "code",
   "execution_count": null,
   "id": "constant-variation",
   "metadata": {},
   "outputs": [],
   "source": [
    "# paths and configurations\n",
    "\n",
    "# global configs\n",
    "fps = 24\n",
    "file_ext = \"mp4\"\n",
    "\n",
    "# png images to mp4 clips file configurations\n",
    "image_path = os.path.join(path, 'output/output 9_02_2021 2 /*.png')\n",
    "clips_save = os.path.join(path, 'output/Video/clips')\n",
    "clips_name = \"shb_images\"\n",
    "duration = 20\n",
    "\n",
    "# mp4 clips to concatenated final video clip\n",
    "clips_path = os.path.join(path, 'output/Video/clips/*.mp4')\n",
    "save_dir = os.path.join(path, 'output/Video/final clips')\n",
    "name = 'final'\n",
    "filename = os.path.join(save_dir, name + \".\" + file_ext) "
   ]
  },
  {
   "cell_type": "code",
   "execution_count": null,
   "id": "liable-strength",
   "metadata": {},
   "outputs": [],
   "source": [
    "def png_to_mp4():\n",
    "    \n",
    "    # use glob to list image directory and sort it\n",
    "\n",
    "    image_list = sorted(glob.glob(image_path))\n",
    "    print(len(image_list))\n",
    "    \n",
    "    # generate mp4 files of n length mp4 clips\n",
    "    \n",
    "    count = 0\n",
    "    for img in image_list:\n",
    "        clip = ImageClip(img).set_duration(duration)\n",
    "        clip.write_videofile(os.path.join(clips_save, clip_name + str(count) + \".\" +  file_ext), fps)\n",
    "        count += 1\n",
    "        "
   ]
  },
  {
   "cell_type": "code",
   "execution_count": null,
   "id": "unlimited-inspector",
   "metadata": {},
   "outputs": [],
   "source": [
    "def check_clips(clips_path):\n",
    "    clip_list = sorted(glob.glob(clips_path), key=os.path.getmtime)\n",
    "    print(clip_list)"
   ]
  },
  {
   "cell_type": "code",
   "execution_count": null,
   "id": "brown-footage",
   "metadata": {},
   "outputs": [],
   "source": [
    "def edit_video(clips_path, save_dir, file_ext, name):\n",
    "    \n",
    "    count = 1\n",
    "    \n",
    "    # CHECK FILES\n",
    "    clip_list = sorted(glob.glob(clips_path), key=os.path.getmtime)\n",
    "    \n",
    "    # make a list and create crossfades\n",
    "    clips = []\n",
    "\n",
    "    for clip in clip_list:\n",
    "        clip = VideoFileClip(clip)\n",
    "        clip = clip.set_duration(8)\n",
    "        f_clip = clip.crossfadein(1)\n",
    "        f_clip = f_clip.crossfadeout(1)\n",
    "        clips.append(f_clip)\n",
    "        \n",
    "    # concatenate files\n",
    "    final_video = concatenate_videoclips(clips, method='compose', padding=-5)\n",
    "    \n",
    "    #write file to disk\n",
    "    if os.path.exists(filename):\n",
    "        final_video.write_videofile(os.path.join(save_dir, name + str(count) + \".\"  + file_ext))\n",
    "        count += 1\n",
    "    else:\n",
    "        final_video.write_videofile(filename)\n",
    "    clip.close()\n",
    " \n"
   ]
  },
  {
   "cell_type": "code",
   "execution_count": null,
   "id": "utility-chicken",
   "metadata": {},
   "outputs": [],
   "source": [
    "# write video files \n",
    "\n",
    "edit_video(clips_path, save_dir, file_ext, name)"
   ]
  }
 ],
 "metadata": {
  "kernelspec": {
   "display_name": "Python 3",
   "language": "python",
   "name": "python3"
  },
  "language_info": {
   "codemirror_mode": {
    "name": "ipython",
    "version": 3
   },
   "file_extension": ".py",
   "mimetype": "text/x-python",
   "name": "python",
   "nbconvert_exporter": "python",
   "pygments_lexer": "ipython3",
   "version": "3.8.6"
  }
 },
 "nbformat": 4,
 "nbformat_minor": 5
}
