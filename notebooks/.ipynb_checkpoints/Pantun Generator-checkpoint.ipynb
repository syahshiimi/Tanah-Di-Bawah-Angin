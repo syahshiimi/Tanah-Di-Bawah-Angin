{
 "cells": [
  {
   "cell_type": "code",
   "execution_count": 2,
   "id": "patent-services",
   "metadata": {},
   "outputs": [
    {
     "name": "stdout",
     "output_type": "stream",
     "text": [
      "transformers version:  2.1.1\n"
     ]
    }
   ],
   "source": [
    "import os\n",
    "os.environ[\"CUDA_VISIBLE_DEVICES\"]= \"1\"\n",
    "\n",
    "import transformers\n",
    "print(\"transformers version: \", transformers.__version__)"
   ]
  },
  {
   "cell_type": "code",
   "execution_count": 3,
   "id": "crude-tender",
   "metadata": {},
   "outputs": [],
   "source": [
    "YOUR_PROMPT = \"'Lang terbang menuju awan\""
   ]
  },
  {
   "cell_type": "code",
   "execution_count": 4,
   "id": "realistic-arrest",
   "metadata": {},
   "outputs": [
    {
     "name": "stdout",
     "output_type": "stream",
     "text": [
      "zsh:1: unmatched \"\r\n"
     ]
    }
   ],
   "source": [
    "!python puisi-pantun-generator/src/run_generation.py \\\n",
    "--model_type gpt2 \\\n",
    "--model_name_or_path '../puisi-pantun-generator/input/gpt2-pantun \\\n",
    "--length 125 \\\n",
    "--prompt \"<BOS> {YOUR_PROMPT}\" \\\n",
    "--stop_token \"<EOS>\" \\\n",
    "--k 50 \\\n",
    "--num_return_sequences 100 > generated-pantun.txt"
   ]
  },
  {
   "cell_type": "code",
   "execution_count": null,
   "id": "soviet-inspection",
   "metadata": {},
   "outputs": [],
   "source": []
  },
  {
   "cell_type": "code",
   "execution_count": null,
   "id": "velvet-plasma",
   "metadata": {},
   "outputs": [],
   "source": []
  },
  {
   "cell_type": "code",
   "execution_count": null,
   "id": "geographic-cooperation",
   "metadata": {},
   "outputs": [],
   "source": []
  },
  {
   "cell_type": "code",
   "execution_count": null,
   "id": "facial-distance",
   "metadata": {},
   "outputs": [],
   "source": []
  },
  {
   "cell_type": "code",
   "execution_count": null,
   "id": "instant-portal",
   "metadata": {},
   "outputs": [],
   "source": []
  }
 ],
 "metadata": {
  "kernelspec": {
   "display_name": "Python 3",
   "language": "python",
   "name": "python3"
  },
  "language_info": {
   "codemirror_mode": {
    "name": "ipython",
    "version": 3
   },
   "file_extension": ".py",
   "mimetype": "text/x-python",
   "name": "python",
   "nbconvert_exporter": "python",
   "pygments_lexer": "ipython3",
   "version": "3.8.6"
  }
 },
 "nbformat": 4,
 "nbformat_minor": 5
}
